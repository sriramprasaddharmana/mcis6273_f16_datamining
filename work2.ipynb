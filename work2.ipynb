{
   "cell_type": "markdown",
   "metadata": {},
   "source": [
    "## PART 3 / Data Exploration\n",
    "\n",
    "For this part we will be using the data from the [Salt Lake City water usage dataset (by block)](http://www.civicdata.io/dataset/slc_water_usage_1/resource/a2bc8285-d9ef-45ca-ae86-bf735bc5011a).  This dataset includes information about water consumption for 2016."
   ]
  },
  {
   "cell_type": "code",
   "execution_count": 53,
   "metadata": {
    "collapsed": true
   },
   "outputs": [],
   "source": [
    "water_usage_data = pd.read_csv('water_usage.csv')"
   ]
  },
  {
   "cell_type": "markdown",
   "metadata": {},
   "source": [
    "## Explore the data:\n",
    "\n",
    "### &#167; How many different property types are described in this data?"
   ]
  },
  {
   "cell_type": "code",
   "execution_count": 56,
   "metadata": {
    "collapsed": false
   },
   "outputs": [
    {
     "data": {
      "text/plain": [
       "13"
      ]
     },
     "execution_count": 56,
     "metadata": {},
     "output_type": "execute_result"
    }
   ],
   "source": [
    "# There are 13 different property types\n",
    "water_usage_data['descr'].unique().shape[0]"
   ]
  },
  {
   "cell_type": "markdown",
   "metadata": {},
   "source": [
    "### &#167; How many much of consumption data is less than 0?"
   ]
  },
  {
   "cell_type": "markdown",
   "metadata": {},
   "source": [
    "There are 266 rows with consumption data less than 0"
   ]
  },
  {
   "cell_type": "code",
   "execution_count": 57,
   "metadata": {
    "collapsed": false
   },
   "outputs": [
    {
     "data": {
      "text/plain": [
       "266"
      ]
     },
     "execution_count": 57,
     "metadata": {},
     "output_type": "execute_result"
    }
   ],
   "source": [
    "# 266 rows with consumption data < 0\n",
    "water_usage_data[water_usage_data['consumption'] < 0].shape[0]"
   ]
  },
  {
   "cell_type": "markdown",
   "metadata": {
    "collapsed": true
   },
   "source": [
    "### &#167; Produce a histogram of the monthly consumption for all property types?"
   ]
  },
  {
   "cell_type": "code",
   "execution_count": 58,
   "metadata": {
    "collapsed": false
   },
   "outputs": [
    {
     "data": {
      "text/plain": [
       "array([[<matplotlib.axes._subplots.AxesSubplot object at 0x1177c8950>,\n",
       "        <matplotlib.axes._subplots.AxesSubplot object at 0x1179492d0>,\n",
       "        <matplotlib.axes._subplots.AxesSubplot object at 0x11795cd50>],\n",
       "       [<matplotlib.axes._subplots.AxesSubplot object at 0x117e72c50>,\n",
       "        <matplotlib.axes._subplots.AxesSubplot object at 0x118b27e10>,\n",
       "        <matplotlib.axes._subplots.AxesSubplot object at 0x118a66150>],\n",
       "       [<matplotlib.axes._subplots.AxesSubplot object at 0x117e0c5d0>,\n",
       "        <matplotlib.axes._subplots.AxesSubplot object at 0x1178bfe50>,\n",
       "        <matplotlib.axes._subplots.AxesSubplot object at 0x117bb3310>]], dtype=object)"
      ]
     },
     "execution_count": 58,
     "metadata": {},
     "output_type": "execute_result"
    },
    {
     "data": {
      "image/png": "iVBORw0KGgoAAAANSUhEUgAAAYoAAAEhCAYAAABhpec9AAAABHNCSVQICAgIfAhkiAAAAAlwSFlz\nAAALEgAACxIB0t1+/AAAIABJREFUeJztnXvYXUV5t+9fjhJIQgBJgEBIhYhwIUk0wRYP4RAIWsFa\nK4FechBqW2Khn0UIHgjgV0hoLaQq8FlAAUFOEYESIZxeFEtIIFGpCSTIGUkQQtCIAZI83x8zL9nZ\n7L3ftQ9r7bX3eu7rmutde9bMs2bNb7179pp5ZkZmhuM4juNUo1+7C+A4juPkG28oHMdxnJp4Q+E4\njuPUxBsKx3EcpybeUDiO4zg18YbCcRzHqYk3FI7jOE5NvKFoEZJmSFosab2kK9pdHid9JA2SdJmk\npyW9JmmJpGntLpeTHpKulvSipLWSHpN0YrvLlAXeULSOF4BvAJe3uyBOZgwAngU+YmbDga8DN0ja\nrb3FclLkfGCsmW0LHAH8X0kT2lym1PGGokWY2Y/N7FZgTbvL4mSDmb1uZuea2XPx8+3AU8AH2lsy\nJy3MbJmZrY8fBRjwnjYWKRO8oXCcFiFpJLAn8Ot2l8VJD0nfkfRHYDnwW2B+m4uUOt5QOE4LkDQA\n+AHwfTNb0e7yOOlhZjOAbYAPAz8C3mhvidLHGwrHaRJJIjQSbwD/1ObiOBlggf8BdgX+sd3lSZsB\n7S6A43QBlwM7AB83s43tLoyTKQPwMQonKZL6S3oX0B8YIGmwpP7tLpeTLpIuBfYCjjCzN9tdHic9\nJL1b0lGStpbUT9JhwHTg7naXLW3k+1G0BkmzgFkEL4hezjGzc9tUJCdlohvs08B6oPdNwoC/N7Mf\ntqtcTjpI2gG4CXg/4Uf2M8BcM+v6eVN9vlFIGidpaZxMtDROLDpF0ghJCyQ9LulOScNL8pwpaaWk\n5ZIOLYmfKOlXklZIuiitm2oHZnaOmfUzs/4loSMbCdc8GWb2bNR8iJkNjWFYJzYSrnnfmNnLZjbF\nzLYzs23NbL8iNBIAmFniQGhYfksYwJkDnB7jzwBmx+O9gaWEvrvdgSfY/ObyEDApHs8HDqvn+h6y\nD6558YJr7qE81DtGcQjwGwsTjI4ErozxVwKfisdHANeZ2QYzexpYCUyWNAoYamaLY7qrSvI4+cU1\nLx6uubMF9TYURwHXxuORZrYawMxWATvG+F2A50ryvBDjdgGeL4l/PsY5+cY1Lx6uubMFiRsKSQMJ\nvyJujFHlo+A+Kt5luObFwzV3KlHPPIrDgUfM7OX4ebWkkWa2Or5uvhTjXyD0bfYyOsZVi38Hkvxh\nbDNmJlzzQpGl5q53+4l6J6KerqejgVJvjluB4+PxccAtJfHT4xLMY4E9gEXxtfU1SZPjTNZjS/K8\ng74GV2bNmtXSwZpW2ut0W0XQ3J+f9mvezjoqev56SfRGIWkIYYDrCyXRcwhLKn+e4E/82Sj+Mkk3\nAMuAt4CTbXPJZgDfB94FzDezO+ousZMJrnnxcM2daiTtehoI9ACLJG0CPg+sADbF80ayvkwrCw3x\n7LPP8t3vXsm8efdUTTNx4vu58srvNHoJJ2eaL126lEsuuYIbb7yrapqjj/40X/vavzR6CSdnmlfi\n9tt/wle+MptVq57m5pvve8f5L3zhc8yYcVIrL+lAstc/wq+DE+LxAGA4KfpX8/aaW5WZP3++vetd\nexn8tEq4zYYM2a6mjXLuu+++utJ3sy3CP3euNL/00ktt4MC/MHigSphr48dPaXldtMNeETTvS+9q\nnHrqaQZ/b3ChQU9ZONcOOuivEtlpto47PX+s/+RdVX0mgGEEn+ry+McIrnMAo4DH4vFM4IySdD8B\n9o9plpXETwcuqXLNmjc5f/58Gz58moFVCS/X3VA4m4lfGrnS/NJLL7WttvpCDc3vrauhcLYka82b\nayguqPIMzEvcUBSdehuKJIPZY4GXJX0vTu//buzLdP/q7sY1Lx6uuVORJGMUA4CJwAwze1jShYRf\nE6n6V5999tlvH0+ZMoUpU6a00rxTQk9PDz09PeXRrnkXkwfNXe/sqKJ3YpI0FM8Dz5nZw/HzPMID\nlJpPPWz5EDnpUv5Pes4554Br3tXkQXPXOzuq6J2YPrue4mvnc5LGxaiDCXsCp+pT77Qd17x4uOZO\nRZK6x54CXBOn9z8JnEDYoMf9q7sX17x4uOZORZLOzL4FGETonxxtZq/F49z4VzstxzUvHq65U5Gk\nDcUmYIqZTTCzyTFuJnC3mb0XuBc4E0DS3oRfHe8jrBtzcXwFBbgEONHMxgHjFLYSdPKJa148XHOn\nIkkbClVI6+vUdzeuefFwzZ2KJG0oDLhL0mJJvfPj3b+6u3HNi4dr7lQk6WD2AWb2oqR3AwskPY77\n1HcNVXysXfMuJg+au97ZkcU8Cszsxfj3d5J+DEzGfeq7hko+1q55d5MHzV3v7Eh9HoWkIZK2icdb\nA4cCj+L+1V2Na148XHOnGknGKEYCD0haCrwMjDCzBcClwOmS3gS+DFwMwb8aWA2sIywodlmJf/W3\ngPuBN4Cd3L861zwg6XXgReA2YDEwCThL0h+Bw4DZMe2RhF+R6wj6nmxmJmkisD3wM2ANsNI1zzWu\nuVORJDOznzKz8QTvhXmE5YQB/gGYY2aDgH8DToa33eZGAkOA9wInlbjNnQJ8NOZ50d3mcs2VwI+A\nHjObTXCTvMPMtgbOJfx6XFviJjkKGAe8CfRuGnEJcIyZDQYeJCw57eQX19ypSCKvJ0mjgY8Dl5VE\nu9tcd+N6Fw/X3KlIUvfYCwndS6UeD+4219243sXDNXcqkmQw+xPAajP7BWFCTjV8qn4XcPvttwPg\nehcH19zpiyTusQcAR0j6OLAVMFTS1cCqrFwl3cc6XUp9rO+5J+xDLulJMtQbXPMsyYPmrnd2NDuP\nIvFWeNFx6WPArfH4AuJWiFTeS3cQYXe80r10FxJ8s0UY5JpW5TpWC98KNV1i/Wemt/lWqG0na837\n0rsavhVqa+jVO2lIOjO7ErPx5YeLhOtdPFxzB0g2RjFY0kNxHsW3gUfiKV9+uIuR9BBwETBW0iwz\nWwP8DeELYwxwvaThAGZ2PnA5oStzrqRDY/wjhElafwIOl3RR9nfiJMU1d6qRZB7FG8CBZjYBGE8Q\nfzK+/HC345oXD9fcqUgi91gzez0eDib8gjDcx7qrcc2Lh2vuVCPphLt+setpFXBXfAjcx7qLcc2L\nh2vuVCPp6rGbgAmShgE3S9oHX3K6a6jkOueadzd50Nz1zo5Mlhnvxcx+L6kHmIYvOd011FqC2DXv\nTvKgueudHVksM75Dr6eDpK2AqcByfPnhrsY1Lx6uuVONJG8UOwFXSupHaFiuN7P5khbiPtbdzH2u\neeFwzZ2KJBnMfhVYCwwkzLb8Q4z3eRTdjWtePFxzpyJJGooNwJfMbB/gz4EZkvbC/au7Hde8eLjm\nTkWSTLhbZWFVScxsHaHfcjTuX93VuObFwzV3qpF0PwoAJO1OmLW5EPevLgSuefFwzZ1yErvHKmy8\nfhNwqpmtk+Q+9V1CNR9r17x7yYPmrnd2ZDKPQtIAwsNztZn1urq5T32XUMnH2jXvbvKgueudHanP\no4hcASwzs7klce5f3d245sXDNXcq0ucbhaTbgL8E1ks6kPDqeR4wCdhf0lnAQ8CnY5YjCb8o1hHW\njDnJzEzSRGB74GfA68BV7l+daz6Ha140XHOnIkneKOYAE4CVZjbBzCYSHp47zGxr4FzCL4m1JS5z\no4BxwJvAXdHOJcAxZjYYeJCw+5WTX1zz4uGaOxVJ4h77AGHSXSnuMtf9uObFwzV3KlKXe2wJO7rL\nXOFwzYuHa+4AjTcU5fg0/eLhmhcP17yg1LXMeAmpukmC+1hnSUIfa9e8i8iD5q53djQ7jwIz6zMA\nuwOPlnyeA5wRj88AZsfjvYGlwCBgLPAEoHhuITCZsODYfGBajetZLebPn2/Dh08zsCrhZRsyZLua\nNpzqEH455krzSy+91Lba6gs1NL/Xxo+fkma1dDVZa96X3tU49dTTDC6o8gzMs4MO+quW1Ee3E+s/\n0fe/mSVyj70WmAJsL+lZYBYwG7jRlx7uav4H17xouOZORfpsKMzsmCqnDqmS/nzg/ArxjwD7SpoG\nXCRpBXC5mc2po7xORpjZzhWiXfMuxjV3qtGqwexExE1Rvg0cBuwDHB2XMq6bDRteaWXRmuu/K6Ct\npLRS840bf9uycrW6LvKqU6drXp2e5nI3WS+dnr9eMm0oCH2XK83sGTN7C7iO4KtdNxs2rGlpwfL6\nz5lXW3XQMs03bfKGop226qBlmlenp7ncHf5F3+0NRbn/tftZdz+uefFwzbuMRt1j28qOO+7Im28+\nxcCBQ6ukMEaNGptpmZx02WmnndiwYWlVzTdt2sCuu/5VxqVysmbnnXeif/8zMTP69//mFuc2bXqL\nXXc9sU0l62602Vkhg4tJHwLONrNp8fNMgpvWnLJ0PrGnzZiZ+k7VN65555Cl5q53+6lH76wbiv7A\n48DBwIvAIuBoM1ueWSGcTHHNi4dr3n1k2vVkZhslfRFYQBgfudwfnu7GNS8ernn3kekbheM4jtN5\nZO315DiO43QY3lA4juM4NekY99g4s/NINvtjvwDc2kzfp6TtAMys6dl7rbTVanutLltWFEnzPD8/\neaBVz0Kz9dLp+RulI94oJJ1BmN0pggfFonj8w+h6V4+t3SRdJ+l3hD2AF0l6Kcbt3i5beS9b1hRB\n8zw/P61G0nBJR0n6UgxHSdo2Yd6mnoVm66XT80cbDdc/kGyZ8XYHYAUwsEL8IMJSAfXYehA4Cuhf\nEtcfmA4sbJetvJfNNc+3rTxrDhwL/Iawn/bXYrg0xh2b9rPQbL10Qf6m6t/MOqaheAwYUyF+DPB4\nnbaqPlgNfAG1zFbey+aa59tWnjUnzKnYtkL8CGBF2s9Cs/XSBfmbqn+zBPtR5IR/Bu6RtJLNa8js\nBuwBfLFOW49IupiwWXyvrV2B4wibsbTLVt7LljVF0DzPz08rEZW3Ud0Uz/VFs89Cs/XS6fmbrf/O\nmUehsHTxZLYczFpsZhvrtDMIOJEKA2OEiUFvtMNW3svWDrpd8zw/P61E0nHAWYQJeKVf9FOBb5jZ\n9xPYaPhZaLZeuiB/8/XfKQ2F4zidi6QRhP0pSr/o7jSzV9tXquLQbP0XsqGQdBjwKbastFusgW0b\nK9haB/w1cL2ZHZuzsjVsq9NJsV7/AtgWeIPwKv+8mb2vHeVKw16rUZvcO5utl7L8OwN/BmxFWEL9\neDP7eYbXrzt/iZ2G6r9wDYWki4BxwFUEkQFGEzwDVprZqU3a+k6091I9XxgZla0hW51OyvX6nwSX\nxTEtsNVwudKw1yok7QZcABwEvEboFx8G3AvMNLOnU75+U/VSln8UcDphB78PE76wzzKzFzO6fiP5\nm6//JCPe3RSoMsofK69er5UVZZ+nE/y9zwJ+n6eyNWOr00PKmt8HfD4PGuVVc9rstttsvZTmB34O\nnNBo/mav32D+puu/IybctZj1kiZViJ8ErG/UlqRhwDnAlwitfV0DrmmWrQW2Op206/V84BVgZ0kf\na1O50rDXKnYws+utZODZzDaa2XXA9hlcv9l6WS9pUhxQ/yCwY/TAehEYIWlwFtdvIn/T9V/ErqeJ\nhIknQ9n8Grcr4ZVshpk90qCtrQmibQK2AX5pZn+Zk7I1ZavTSblehxHGKF4DbgdOA/Yzs6eyLFca\n9lqFpOuANVR279zBzD6b8vWbqpeS/COAPYHfA6tj/gHAf5vZ1zO4fqP5m67/wjUUvUgaRcnAkJmt\nasLWwcD/A44BngX+HniPNTCYnULZWmar08miXiX9hPDF8Z12lCsNe82SF7fdZutF0jjC5L+zgMvM\nbJWkTwNfNbMPZHD9hvK3ov47ZcJdS5EkwuBjb6UNkLTaGmg1o61PRFt3EN4oBgP9Je1tZh9sc9la\nYqvTybBejYSTmFpdrjTstQIze5Pwi/iSdpWh2XqJ+UcQuhh3AMZIWk3liWxpXb+h/K2o/8I1FJIO\nBS4GVhJaVQhjCntIOtnMFjRg6zfAvBi9MzABWAL8VQ7K1rStTifFen0J2JGwuOZ7JN0EfAQ4Jety\npWGvlbTTbbfZeinL/xyh52BfYCzBHf5HGV6/IV2brv8kI97dFIDlwO4V4scCy1tk60JgbU7LVret\nTg9p1Svhl+UiQl/xWuB14KB2aZRXzYGLgPkEL5sPxzA9xs3Nu/5lmg8guMC/ShineAUYlNX1G8zf\ndP0nqeRxhPVElsS/rxF+MY0gTAl/HLgTGF6S50xC67ccOLQkfiLwK8JqkBe16aFdCQyoED8IeKJd\ntvJUNte882zlWXPa7LbbbD13Qf6m67/PriczW0HoSuldb+V54GZgJnC3mV2gsF78mcBMSXsDnwXe\nR3g9ulvSnhZKdglwopktljRf0mFmdmdfZWgxVwCLoydAqQfAdODyNtrKTdlc84601ZS9NDUn9KdP\nMrPFZZfNym232Xru9Pzrm63/uryeYl/Z183sI5IeAz5mZqvjaHyPme2lsJGImdmcmOcnwNnAM8C9\nZrZ3jJ8e8/9j4gK0iPiQH8E7d8ta1k5beSyba945tlplLwXN/5qwCF3b3HabrZdOzq8WuE3XO5h9\nFHBtPB5pZqsBLLiJ7RjjdyHMBOzlhRi3oaSQxONdaAOxchv6R0zTVqvttciWa94htlpor9WaDzaz\n/Zt1D22GZuulk/Ob2RKgqfpPPDNb0kBCi3Zj7/XLy5PUVjtR2BJwtqTHJK2R9Iqk5TEu+daALbaV\nx7K55p1jq1X20tJcetu98+0Q41Kn2Xrp9PzRRnP1n2QgI3ZPHQHcUfJ5OeHXBoSFspbH45nAGSXp\n7gD2L00T46cDl1S5lnlob3DNixdS1Pw24AngJ8BlMbT9fj3wBCVOCDW//+toKH4IHFfyeU7vgwKc\nAcyOx3sTvCYGEdy3nmDzWMhCwuYjIrhmTav2pVEvs2bNqjtPp+TLuoxs/tLIleaN3k/atlptrx22\nUtb8WcrcO5P+j3d6vbbDXhJbsaFI7DadaIxC0hDgEOALJdFzgBskfZ4wgPXZqP4ySTcQ+tPeAk6O\nBQOYAXwfeBcw33KyRr7zTlzz4pGW5oT1kUrHLZx88AIwMEnCpIPZA4EeYJGkTYRllVcQlquAza8y\npZR/Lk1XKX3DrFmzhiuu+AHz5t1TNc3cuedw0EEHteqSRSBXmt93Xw9XXHENd99d7uEXGD58G669\n9rsMHz680Us46Wleyb2zJqtWreKrX/0GDz/8EE89tbpimtNOO5l99903iTmnMg+R0A07aUMxl/Br\n8G8kDSCslPoVcuJT/8wzz/C73/2J5547r0qKK/jpT39asaGYMmVKQ9fMMl/WZYzkSvP58+/kuef+\njOeeO7ni+SFDvshTTz3F+PHjE9lrsm5StddGW6loThibuIUw/vHnSQpy3333cc01D/HGGx/hV78a\nVyHF7YwZc1NdDUVeNWq1vTps/a0ldZvuq2+KsIzybyrEP8aWg1yPWeVBrp+weZBrWUl8zYHNeliy\nZIkNGzbewKqEWS3vU+xmCL8Cc6X5aafNNDivqsbDhu1nS5cuTatKup6sNe9L72uvvdaGDp1e43/6\nbPv6189KrT66nVj/iceok7jHjgVelvQ9SUskfTf2ZW7hX01YHA2Cn27p62Wvf/Uu5MSn3kmEa148\n0tJ8jKTzJV0t6ej0b8NJQj3utUm6ngYQ1m6ZYWYPS7qQ8GsiSV9lw5x99tlvH0+ZMqXlr3rOZnp6\neujp6SmPds27mIw1H09Y+2ke8HlJnwHXO0uq6P0qcANwaF/5kzQUzwPPmdnD8fM8wgO0WtJI2zy1\n/6V4/gXC9PBeRse4avEVKX2InHQp/yc955xzwDXvajLWfJCZzYyffyzpq8CnXe/sqKS3mc2J3mx9\n0mfXU3ztfE5hdyeAg4FfE3ZHOj7GHUcYrCLGT5c0SNJYYA9gUXxtfU3S5Dgj8NiSPE7+cM2LR1qa\nv66w0CAAZvav6d+K0xfROSGRF1pSr6dTgGvi9P4ngROA/rhPfTfjmhePVDQH/hc4CLg7u1txErAd\n8DdJEiZd6+kWwgxMA0ab2WvxOBfzKJxUcM2LRyqam9npZvZ2IyHpk60uuFM/ZnYGYde7PknaUGwC\nppjZBDObHON616l/L3Avwb+6dzncXv/qw4GLSxaf6vWvHgeMU9iez8knrnnxyEpz73rKD+ckSZS0\noVCFtEcCV8bjK9ncMh0BXGdmG8zsacLuTJPjQNhQ27x5xlUkbM2ctuCaF4+sNM9k1VinNpIeBUYm\nSZu0oTDgLkmLJZ0U49ynvrtxzYtHVpp7F2Q++CRhz+8+STqYfYCZvSjp3cACSY/jPvVdQxUfa9e8\ni8mD5q53dlTS28yeltRTMUMZiRoKM3sx/v2dpB8TlhB2n/ouoYqPtWvexeRBc9c7O6rMm8HMjkmS\nv8+uJ0lDJG0Tj7cmzOJ7FPep72pc8+KRoeaVl4N1ckuSMYqRwAOSlgIvAyPMbAFwKXC6pDeBLwMX\nQ/CvJjwI6wgLil1W4l/9LeB+4A1gJ/epzzUPSHodeJGwQ9liYBJwlqQ/AocBs2PaIwm/ItcR9D3Z\nzExhU/ftgZ8Ba4CVrnmuyURzM5uaxc04rSPJzOynzGw8wXthHmEnK4B/AOaY2SDg34CT4W23uZHA\nEOC9wEklbnOnAB+NeV50V8lccyXwI6DHzGYT3CTvMLOtgXMJvx7XlrhJjgLGAW8Cd0UblwDHmNlg\n4EHC5Csnv7jmTkUSeT1JGg18nLDXbS/uKtnduN7FwzV3KpLUPfZCQvdSqceDu0p2N6538XDNnYok\nGcz+BLDazH5B7Yky7hvdBdx+++0AuN7FwTV3+iKJe+wBwBGSPg5sBQyVdDWwKitXSfexTpdSH+t7\n7gn7jkt6kgz1Btc8S/KgueudHVXmzSTH6tgOD/gYcGs8voC4FSJwBjA7Hu8NLCUsLjaWMPiteG4h\nwTdbhEGuaVWuY/XgW6G2llj/meltvhVq28la87709q1Q06VX76Qh6czsSszGl5wuEq538XDNHSDZ\nGMVgSQ/FeRTfBh6Jp3zJ6S5G0kPARcBYSbPMbA1h7fpngDHA9ZKGA5jZ+cDlhK7MuZIOjfGPECZp\n/Qk4XNJF2d+JkxTX3KlGknkUbwAHmtkEwt63h0uajC853e245sXDNXcqksg91sxej4eDCb8gDPex\n7mpc8+LhmjvVSDrhrl/seloF3BUfAvex7mJc8+LhmjvVSLp67CZggqRhwM2S9sGXnO4aqixB7Jp3\nMXnQ3PXOjmbdY+vyejKz38f1y6fhS053DdWWIAbXvFvJg+aud3bU0jsJSbyeduj1dJC0FTAVWI4v\nOd3VuObFwzV3qpHkjWIn4EpJ/QgNy/VmNl/SQtzHupu5zzUvHK65U5Ekg9mvAmuBgYTZln+I8T6P\nortxzYuHa+5UJElDsQH4kpntA/w5MEPSXrh/dbfjmhcP19ypSJIJd6ssrCqJma0j9FuOxv2ruxrX\nvHi45k41ku5HAYCk3QmzNhfi/tWFwDUvHq65U05i91iFjddvAk41s3WS3Ke+S6jmY+2ady950Nz1\nzo5M5lFIGkB4eK42s15XN/ep7xIq+Vi75t1NHjR3vbMj9XkUkSuAZWY2tyTO/au7G9e8eLjmTkX6\nfKOQdBvwl8B6SQcSXj3PAyYB+0s6C3gI+HTMciThF8U6wpoxJ5mZSZoIbA/8DHgduMr9q3PN53DN\ni4Zr7lQkyRvFHGACsNLMJpjZRMLDc4eZbQ2cS/glsbbEZW4UMA54E7gr2rkEOMbMBgMPEna/cvKL\na148XHOnIkncYx8gTLorxV3muh/XvHi45k5F6nKPLWFHd5krHK558XDNHaDxhqIcn6ZfPFzz4uGa\nF5S6lhkvIVU3SXAf6yxJ6GPtmncRedDc9c6OZudRYGZ9BmB34NGSz3OAM+LxGcDseLw3sBQYBIwF\nngAUzy0EJhMWHJsPTKtxPauHJUuW2LBh4w2sSphls2bNqstmkSH8csyV5qedNtPgvKoaDxu2ny1d\nujTNaulqsta8L72vvfZaGzp0eo3/6bPt618/K9U66WZi/Sf6/jezRO6x1wJTgO0lPQvMAmYDN/rS\nw13N/+CaFw3X3KlInw2FmR1T5dQhVdKfD5xfIf4RYF9J04CLJK0ALjezOXWU18kIM9u5QrRr3sW4\n5k41WjWYnYi4Kcq3gcOAfYCj41LGTbNhwx/6TlSBRvvtssyXdRlbSWs1f7Jl5Wp13bTSXl5tJaW1\nmve0rFx5rtc8lw0ybigIfZcrzewZM3sLuI7gq900GzasayifNxSp00LNvaFop606aKHmPS0rVJ7r\nNc9lg+wbinL/a/ez7n5c8+LhmncZjbrH5ooRI0awYcMrDBw4tOL5jRvfYKedvpVxqZxWsssuOwE9\nVTVev34TU6d+kpdffr7i+ZEjx7Bq1dPpFdBpKaNGjeKPf7yJfv1E//7ffMf5jRvfYO7cEXzjG+dW\nteGatw5tdlbI4GLSh4CzzWxa/DyT4KY1pyydT+xpM2amvlP1jWveOWSpuevdfurRO+uGoj/wOHAw\n8CKwCDjazJZnVggnU1zz4uGadx+Zdj2Z2UZJXwQWEMZHLveHp7txzYuHa959ZPpG4TiO43QeWXs9\nOY7jOB2GNxSO4zhOTTrWPTbO9DySzf7ZLwC3Ju0LlbQdgJmtqeOadedpR75uoVmNq9hsWZ3m1VYa\n9rLCNW+/rUrk4o1C0nBJR0n6UgxHSdq2RvozCLM9RfCoWBSPfxhd8arl203SdZJ+R9j/d5Gkl2Lc\n7q3K0458MW9d9dhsvjRpVOMqthqu006xlYa9rHHN22erT+pZajaNABwL/Iaw1+7XYrg0xh1bJc8K\nYGCF+EGEpQOqXetB4Cigf0lcf2A6sLBVedqUr+56bCZfBs9FQxq3sk47yVYa9lzz4tjq81o5eDge\nB7atED8CWFElz2PAmArxY4DHa1yrViNS8Vwjedp0ru56bCZfBs9FQxq3sk47yVYa9lzz4tjqK+Rh\njEJU3mL2SmuVAAAXnUlEQVRxUzxXiX8G7pG0ks1ryuwG7AF8sca1HpF0MWGj+N58uwLHETZiaVWe\nduRrpB6byZc2jWpciUbrtJNspWEva1zz9tmqSdvnUUg6DjiLMDmn9OGYCnzDzL5fJV8/wiqVpYNe\ni81sY41rDQJOpMJgGWFS0ButyNOmfI3WY0P5sqARjavYaahOO8lWGvbagWvevuen5rXa3VAASBpB\nWLu+9GbvNLNX21eqzqPRevT6dxynFrloKHpRBi59kg4DPsWWX4q3WI0tG5PkkfQHNnfhCNgKuA1Y\nVc+1Gi1jWX53xy2j2TrtBFtp2Otk8qpTXm3VvE67GwpJuwEXAAcBrxG+ZIcB9wIzzezpFl7rImAc\ncBVhjXyA0QTPn5VmdmqL8mwNrAGWAHOT5mv0ejFfQ/WYZf23i0brtJNspWGvk8mrTnm11SetHBlv\nJJCli1d1LypR3eupkTzHAW/Wm6/R6zVTj1nWfxufsYbqtJNspWGvk0Nedcqrrb5CHibc7WBm11vJ\nYJWZbTSz64DtW3yt9ZImVYifBKxvYZ5jgTUN5Gv0etB4PWZZ/+2i0TrtJFtp2Otk8qpTXm3VJA/u\nsVm69B0PXCJpKJtf1XYldLkc34o8ksYAHyV4Iny7zms1WkbI3h23kziexuq0k2ylYa+TOZ586pRX\nWzXJwxhF5i59kkaVXsvMVrUqj6SvAQeb2YGNXquRfFm743YijWrRSbbSsNfJ5FWnvNqqRtvfKMzs\nTcLyEZdkcT1JIsz07K3YAZJWW40Ws848nwPOa/RajeZrtB6zrv920agWnWQrDXudTF51yqutmtfJ\nw/OTmYuXdChwMbAyXgOCl8AewMlmtqCZPJL+ArgTGAUcUO+1Gi1jSd6G6rHbXSqbqdNOsZWGvU4m\nrzrl1VaftHJkvJEAXATMJ3jZfDiG6TFubouvtRzYvUL8WGB5s3kIi+l9v9FrNZmvoXrMsv7b+Iw1\nVKedZCsNe50c8qpTXm31ea0EhRlHGNRcEv++BpxCWDRuAWFRuTuB4SV5ziS0csuBQ0viJwK/IqwS\neVGMy8zFK5ZpQIX4QcATrcrTpnyNutV2vUtlo3XaSbbSsNfJIa865dVWX6HPMQozWwFMgLfXYXke\nuBmYCdxtZhcorCN/JjBT0t7AZ4H3EV6D7pa0p4U7uAQ40cwWS5ofuzzWS5pkZovLLp2GS98VwGJJ\n17Glh8904PIW5mlHvkbrMcv6bxeN1mkn2UrDXieTV53yaqsmdY1RxD6xr5vZRyQ9BnzMzFbHUfce\nM9tLYYMRM7M5Mc9PgLOBZ4B7zWzvGD8d+BjwX4QGpJKL1wwze6QF91l6D3sDR/DOHbSWtTJP1vkk\nTaSBemw0X6fRqBadZCsNe51MXnXKq62a16mzobgceNjMLpH0qpmNKDm3xsy2k/Qt4EEzuzbGX0bo\n734GON/MDo3xHwZON7Mj4md36WsBWbnjOo5THBLPzJY0kNBy3RijyluYht2nSly83g4xrqUobPk5\nW9JjktZIekXS8hhXcevPRvK0I1/M21A9ZlX/7aKZOu0UW2nY62TyqlNebfVJHQMnRwB3lHxeDoyM\nx6OIo+yEsYszStLdAexfmibGTyd0eRwKPAH8BLgsBvPQ9vAEJY4InRwIzhZnAKNK4kbFuAXdYCsN\ne50c8qpTXm31ea06CvVD4LiSz3OIDUIs2Ox4vDfBO2oQwU3rCTZ3cS0kbEoiQnfUNCq4eBHGOPpk\n1qxZidKllbZbrx8biq5xqaT29rj1brGZS1tp2OvkkFed8mqrr5Co60nSEOAQ4Ecl0XOAqZIeBw4G\nZsdv+GXADcCy2BicbLHkwAzCaPwKguvlHYTZ4c/j5I0XgIHtLkSLeEbS6ZJG9kZIGqngrfdcjXyd\nZCsNe51MXnXKq62aJF3CYyDQAyyStAn4POHLflM83/srtJTyz6XpStNXcvGqyX/8x3+ycuWTLF68\nkNWr177j/Gc+cyQHH3xgElNOdR6ie1wqjyJ0id4f/6kMWE1Yz+qzTdqCsDnVbS2w1Uy50rDXyRRB\n8+z0TviK833ghHg8ABhOeKM4PcZV6noaAOzOll1PDwGT4vF84LCSPDOBb8VgtejXr7/BvxvMMLiw\nLBxnU6f+9Tvy3HfffTVtNpI2DZt5uH584Pa2HHQhtCoAexHeircpi5/WAttXN5hvf+JEVWAIcC7w\n3/F/a3gD9gYRVv09JH7+W+A7hDf5ge3WwDVvreZZ6t2ne6ykYcBSM3tPWXxL5lGY2T9WuKbVKlf/\n/gPYtGk9lV+IbmLq1OtYsOCmmvflVEcSZtZNXk+nEP55lgPjgVPN7JZ4bomZTazD1q0Vog8i7AiI\nRXfvhLZ+DexnZhskfRf4IzCP0JW7n5l9OqmtaO8awj/FVoR5MFsTJsceTPixdlw99jqZImiepd5J\nup7GAi9L+h6wH/Aw8M8Ej6fVAGa2StKOMf0uhF3Tenkhxm1gy7GI54FdYkN0JmEW93wz+2ET9+O0\nEEkXm9nJ7S5HC/g74ANmtk7S7sBNknY3s7kEx4p6GE0Yf+v1zhNhFvs3GyhXPzPbEI8/WPLl9YCk\nXzRgb18ze7+kAYT/u53NbKOkHwC/bMBeJ1MEzTPTO0lDMYCwRtMMM3tY0oWEbqIkYxJJ+B5hzZJ5\nwOclfQbg7LPPfjvBlClTmDJlSoPmnb7o6emhp6en0qkPZVyUtOhnZusAzOxpSVMIXxxjqP9L44PA\nqcBXgS+b2S8k/cnM7m+gXP8r6QQz+x7wS0kfjP9j44C3GrDXT2F/ka0J3RrDCXu3D6Z7HBOSUgTN\ns9M7QT/YSODJks8fJvSptWoexS/KrvdVEo1RvGVgFcKNFcconOQQGv3tgSWWg77mZgOhi2B8WdwA\nwqb0Gxu0OZow+fTbwLMN2hhOGP/7DWH87i3gSeB+QjdEvfb+T8z/DGHhznsIS+Q8Csxqtw6ueWs1\nz1LvREt4SLof+DszWyFpFqH1AlhjZnOiO9YIM+tdFPCa2DjsAtwF7GlmJmlhvKHFwO3AfwIXAvuY\n2aaS61mtcvkYRbooTMpeRhgEHNPm4jSNpNHABquwLImkA8zs503Y/gRwgJl9pQkbwwhdvAOA5y12\n6TZoa2cAM/ttnJ17COFLbVGjNjuRomield5JG4r9CP1zAwkt2AlAf8J8iV0JLdpnzWxtTH8mYXvN\ntwiDSAti/AcIrem7COMRp0q6gDCL8O6S63lD0UZiQ3E48C0z27PNxXEcp80knUdxC2FUfRMw2sxe\nkzSCFsyjMLPTSxNI+mTCMjkpYmZ3SDqv3eVwHKf9JF0UcBMwxcwmmNnkGNe7H8V7Cf2BZ8Lby972\n7kdxOHCx9PYCc737UYwDxinsR1HOvzZ2K04KnNPuAjiO036SNhSqkPZI4Mp4fCVhz2UIiwdeZ2Yb\nzOxpgkfT5DjXYqht3iDnqpI85ddy2oykRwmODI7jFJykDYUBd0laLOmkGLfFPAqgdB5F6VIcvfMo\ndqHCPIoq13LazyeBV9pdCMdx2k/SMYoDzOxFSe8GFigsBNiqeRQV8XkU2VFpHoUF3/OeihkcxykU\niRoKM3sx/v2dpB8TlgpfLWmkbV7C46WY/AWCJ1Qvo2NctfiKlDYUTrqUN8TnnBOGJszsmDYVyXGc\nHNFn15OkIZK2icdbEzYaepSwQuHxMdlxBM8oYvx0SYMkjQX2ABbF7qnXJE2Og9vHluQppWEfcsdx\nHKf1JHmjGAncLMkIqzE+ZWYLJK0EHpb0DeD3hGU+MLNlklYD6wjdUbNKJkV8izADsT/wawv7UWyB\nmU2N13Icx3FyQJ9vFGb2lJmNJ3gpzSMsGw7wD8AcMxsE/BtwMrztHjuSMHv7vcBJJe6xpwAfjXle\nrOIe6ziO4+SIpDvcjQY+Tpid3Uta7rGO4zhOjkjqHnsh8GW29GxKyz3WcRzHyRFJBrM/Aaw2s19Q\nezKcjys4juN0IUkGsw8AjpD0ccJOSkMlXQ2syso91udRpEuN/Sgcx3GSrR77dmLpY8C/mNkRcdXX\nV5pdZryS55OvHtteum0rVMdxmiPpzOxKzAZukPR54jLj8LZ77A2E/QzeAk4u+dafwZbLjL+jkXAc\nx3HyRZ8NhaTBwE+BQTF97091owXLjDuO4zj5Jsk8ijeAA81sAjAeOFzSZNJbZtxxHMfJEYncY83s\n9Xg4mPBWYfg8CsdxnEKQdMJdP0lLgVXAXfHL3udROI7jFICkq8duAibEDcFvlrQPvsx41+DusY7j\n1KIurycz+33co2Aavsx411BtmXHHcRxINjN7B0nD4/FWwFRgOektM+44juPkiCRvFDsBV0rqR2hY\nrjez+XHynM+jcBzH6XKSDGa/CqwFBhLWevpDjPd5FI7jOAUgSUOxAfiSme0D/DkwQ9Je+DwKx3Gc\nQpBkwt2quHIsZraOMD4xGp9H4TiOUwiS7kcBgKTdCbOzF+LzKBzHcQpBYvdYSdsQ1nk61czWVdjX\n2udRdCg+j8JxnFokaigk9S4GeLWZ9bq0+jyKLsHnUTiOU4ukXU9XAMvMbG5JnM+jcBzHKQBJlhm/\nDfhLYL2kAwldTOcBk4D9JZ0FPAR8OmY5kvDmsI6wNtRJcdOiicD2wM+A14GrfB6F4zhO/knyRjEH\nmACsNLMJZjaR0EjcYWZbA+cS3hjWlrjGjgLGAW8SdriD4Bp7jJkNBh4E5rf2VhzHcZw0SOIe+wBh\n0l0p7hrrOI5TEOpyjy1hR3eNdRzHKQaNNhTl+HIcjuM4XUpdy4yXkKprLPg8iizxeRSO49RCmxd2\nrZEozMi+zcz2jZ/nAGvMbI6kM4ARZjYzDmZfA+xP6Fq6C9gzej0tBE4BFgO3A/9ZzetJktUqV//+\nA9i0aT2V27mbmDr1OhYsuKnP+3IqIwkzU98pHccpAkncY68FpgDbS3oWmAXMBm70JcYdx3G6nz4b\nCjM7psqpQ6qkPx84v0L8I8C+kqYBF0laAVxuZnPqKK/jOI6TMa0azE5E3Pzo28BhwD7A0XHJ8gbp\nSZ6yjj74pGnTsJmH6zuO45SSaUMBTCZM3HvGzN4CriPMyWiQnuQpO+iLut3XdxzHKSXrhqJ8noXP\np3Acx8k5jbrHtpXtt9+JtWu3ZePGN+nf/5tbnNu06S0eeGAImzfV20zvqqgjR45h1aqnsyiq4zhO\nx5PIPbZlF5M+BJxtZtPi55mAlQ9oV9jrwskYd491HKeXrBuK/sDjwMHAi8Ai4GgzW55ZIRzHcZy6\nyLTrycw2SvoisIAwPnK5NxKO4zj5JtM3CsdxHKfzyNrryXEcx+kwvKFwHMdxatJR7rFxFveRbJ57\n8QJwa61xDknbAZjZmj5sJ0qXZlrHcZw8kosxCknDgWls2QDcaWZrS9KcARxNmM3duwnSaGA6YVe9\n2SVpdwMuIHhXrQUEDAPuBWbG3fcSp0szbdL7ryddmmkdxykebe96knQssISwQu2QGA4EHonnejkR\nmGRms83sBzHMJiwLcmKZ2euBm4FRZranme0B7AT8mNDQ1JsutbRJ77+OekotreM4BcXM2hoI8yq2\nrRA/AlhR8vkxYEyFdGOAx8viVta43sp606WcNun9J0qXZloPHjwUM+RhjEJU3kp1UzzXyz8D90ha\nyeb1onYD9gC+WJb3EUkXA1eWpN0VOA5Y2kC6NNMmvf+k6dJM6zhOAclDQ/GvwBJJC9iyAZgKfKM3\nkZndIWkcoauptC99sZltLLN5LKE76pyytLcClzeQLs20ie6/jnRppnUcp4DkZTB7BGGPivLB1Ffb\nV6rsSHr/9dRTWmkdxykeuWgoemmlK6mkw4BPseWX3y1WtgVr0nRppi3J4668juPkjrY3FCWupAcB\nr9GHK2lCmxcB44Cr2NKV9ljCYPKp9aRLOW2i+6+nntJK6zhOQWn3aDrwIHAU0L8krj9hfsTCBm1W\n9NYhfAmurDddymkT3X899ZRWWg8ePBQztH0eBbCDmV1vJQPSZrbRzK4Dtm/Q5npJkyrETwLWN5Au\nzbRJ77+eekorreM4BSQPXk/1uJIm5XjgEklD2dz1syuha+X4BtKlmbaTXHkdxykgeRijGERwJX3H\nGk6E/SreaML2qFKbZraqmXRppE16//XUU1ppHccpJm1vKNJCYdPs8jkXi6zshpOmSzOt4zhOnslF\nQ9GIK2kf9g4FLgZWRlsQvI72AE42swX1pEszbT33nydXXsdxikPbG4p6XEnrsLkcONzeuUrrWGC+\nmb2vnnQpp+0YV17HcYpJHhqKFWY2rkK8CG6mezZgcyXwPjPbUBY/CFhmYTXXxOlSTpvo/uupp7TS\nOo5TTPLg9bRe0iQzW1wWX8mVNClXAIslXceWnjzT2XKtpaTp0kyb9P7rqae00jqOU0Dy8EYxEbgE\nqORKOsPMHmnQ7t7AEbxzN7xljaRLK23S+6+nntJK6zhOMWl7Q9FLPW6n3UgnuPI6jlNM8jAzu7c/\nfExpiHGN2hsuabakxyStkfSKpOUxbtt606WZtp77r6ee0krrOE7xaPsbRb2upAlt3klY1O7K3l/G\n8RfzccDBZnZoPelSTttRrryO4xSQehaGSiMAy4HdK8SPBZY3aPPxJOeSpks5baL7r6ee0krrwYOH\nYoY8dD0NYPMgaikvAAMbtPmMpNMljeyNkDRS0hls9kKqJ12aaZPefz31lFZax3EKSB7cY+txJU3K\nUcBM4P74ZW3AasL6RZ+tkQ5gFXBbWbp6bNabNitX3t1iuZpJ6zhOAWn7GAXU53Zah829CH3tC81s\nXUn8NKu9y9zVZva5CvH7A4+Z2WuShhAagonAr4HzzOy1krSDgKMJ3kN3S/pb4C+AZcB3zeytMttp\nuPK+jwoL/TWb1nGc4pGLhqLVSDoFmEHofx8PnGpmt8RzS8xsYjy+tUL2gwgD0ZjZESU2fw3sZ2Yb\nJH0X+CMwDzg4xn+6JO01hLe1rQjzEbYGbo5pZWbHtfaO+0bSjmb2UsK025vZK2mXyXGczqDtXU+S\nhgFnEn79zzezH5acu9jMTm7A7N8BHzCzdZJ2B26StLuZzSXsMtfLaMKv/MsI3UMizEj+ZgWb/Wzz\nkhwf7G1sgAck/aIs7b5m9n5JAwi/znc2s42SfgD8sjShpOGE+/8UsGMsx0vALcBsM1sb0yWuJ8W9\nr8tYJGkCoaFaU5J2NvDvZvaypA8ANwIb41vRsWZ2fwVbjuMUiDwMZn+P8AU9Dzha0jxJg+O5DzVo\ns19vd5OFhfmmAIdL+g+2bCg+CDwCfBV4zcx6gD+Z2f0VviD/V9IJ8fiXkj4IIGkc8FZZ2n7xi3Yo\nMAQYHuMH884B4huAV4EpZradmW0PHBjjbihJV089vRzvqzTsAiwBHi5L+wkzezke/ztwlIX1naZS\nucF0HKdotNvtCvhF2eevAj8nbMO5pEGb9wLjy+IGEFZI3Vgh/WjCL+lvA89WsTkc+D7wG+AhQuPw\nJHA/oeupNO3/ieeeAU4B7gH+C3gUmFWWNqkrb+J6Av4FuIPwZtMb91SVaywHBsTj8v20H2338+HB\ng4f2h7aPUSgsyb2PmW0qiTse+DKwjZmNacDmaGCDVd5R7gAz+3mVfJ8ADjCzr9SwPYwwx2AA8LyZ\nra6SbmcAM/ttnI19CKERWlSWbgFwN2Fy3uoYN5KwZepUMzskxtVVT7EOLiR4Ms0Cfmlmf1ahnP8E\nfBKYDXwUGAH8iDBW82dWYWDfcZxikYeG4gJggZndXRY/DfiWdfky15JGEDyojiSMUcBmV9rZZvZq\nTNdQPUk6AvgKYVLdqCpppgD/SNiXYgChcfkxcIWVLZXuOE7xaHtDUY6kT5rZbe0uRx6QdIKZfa/Z\ndJK2At5jZv+b1GY913ccp7vJY0PxKzN7f7vLkQckPWtmu7UqXZppHcfpXtruHluBQq1aKulX1U4B\nI+tNl2Zax3GKSR4biny94qTPSOAwgjtsKQL+p4F0aaZ1HKeA5LGhKBr/TfBaKp+0h6SeBtKlmdZx\nnALiYxSO4zhOTfIwM7ucivMSHMdxnPaQuzcKx3EcJ1/k8Y3CcRzHyRHeUDiO4zg18YbCcRzHqYk3\nFI7jOE5NvKFwHMdxavL/AQu8elnuvFSfAAAAAElFTkSuQmCC\n",
      "text/plain": [
       "<matplotlib.figure.Figure at 0x1151ebe90>"
      ]
     },
     "metadata": {},
     "output_type": "display_data"
    }
   ],
   "source": [
    "water_usage_data['consumption'].hist(by = water_usage_data['mo'])"
   ]
  },
  {
   "cell_type": "markdown",
   "metadata": {},
   "source": [
    "## Fix the data\n",
    "There are some data in the input that needs work. In particular, the property descriptions have issues.  Fix them (**hint:** explore [strip()]() and [lower()]()).  Also please remove all data points that are out of spec, that is connections less than 0 and consumption less than 0."
   ]
  },
  {
   "cell_type": "code",
   "execution_count": 59,
   "metadata": {
    "collapsed": false
   },
   "outputs": [],
   "source": [
    "water_usage_data['descr'] = water_usage_data['descr'].apply(lambda val: val.strip().lower())"
   ]
  },
  {
   "cell_type": "code",
   "execution_count": 60,
   "metadata": {
    "collapsed": true
   },
   "outputs": [],
   "source": [
    "fixed_data = water_usage_data[(water_usage_data['consumption'] >= 0) & (water_usage_data['connections'] >= 0)]"
   ]
  },
  {
   "cell_type": "markdown",
   "metadata": {},
   "source": [
    "### &#167; How many data points do you now have?"
   ]
  },
  {
   "cell_type": "markdown",
   "metadata": {},
   "source": [
    "After filtering the data, there are about  data points"
   ]
  },
  {
   "cell_type": "code",
   "execution_count": 62,
   "metadata": {
    "collapsed": false
   },
   "outputs": [
    {
     "data": {
      "text/plain": [
       "44983"
      ]
     },
     "execution_count": 62,
     "metadata": {},
     "output_type": "execute_result"
    }
   ],
   "source": [
    "# 44983 data points after fixing the data\n",
    "len(fixed_data)"
   ]
  },
  {
   "cell_type": "markdown",
   "metadata": {},
   "source": [
    "### &#167; Show the descriptive stats for this new fixed data: For consumption and connections only, what is the mean, media, min and max?"
   ]
  },
  {
   "cell_type": "markdown",
   "metadata": {},
   "source": [
    "Below table describes the descriptive statistics for consumption and connections. Row index value - '50%' refers to median"
   ]
  },
  {
   "cell_type": "code",
   "execution_count": 65,
   "metadata": {
    "collapsed": false
   },
   "outputs": [
    {
     "data": {
      "text/html": [
       "<div>\n",
       "<table border=\"1\" class=\"dataframe\">\n",
       "  <thead>\n",
       "    <tr style=\"text-align: right;\">\n",
       "      <th></th>\n",
       "      <th>consumption</th>\n",
       "      <th>connections</th>\n",
       "    </tr>\n",
       "  </thead>\n",
       "  <tbody>\n",
       "    <tr>\n",
       "      <th>count</th>\n",
       "      <td>44983.000000</td>\n",
       "      <td>44983.000000</td>\n",
       "    </tr>\n",
       "    <tr>\n",
       "      <th>mean</th>\n",
       "      <td>262.131427</td>\n",
       "      <td>8.323967</td>\n",
       "    </tr>\n",
       "    <tr>\n",
       "      <th>std</th>\n",
       "      <td>1748.356136</td>\n",
       "      <td>11.917646</td>\n",
       "    </tr>\n",
       "    <tr>\n",
       "      <th>min</th>\n",
       "      <td>0.000000</td>\n",
       "      <td>1.000000</td>\n",
       "    </tr>\n",
       "    <tr>\n",
       "      <th>25%</th>\n",
       "      <td>16.000000</td>\n",
       "      <td>1.000000</td>\n",
       "    </tr>\n",
       "    <tr>\n",
       "      <th>50%</th>\n",
       "      <td>58.000000</td>\n",
       "      <td>3.000000</td>\n",
       "    </tr>\n",
       "    <tr>\n",
       "      <th>75%</th>\n",
       "      <td>166.000000</td>\n",
       "      <td>11.000000</td>\n",
       "    </tr>\n",
       "    <tr>\n",
       "      <th>max</th>\n",
       "      <td>140070.000000</td>\n",
       "      <td>201.000000</td>\n",
       "    </tr>\n",
       "  </tbody>\n",
       "</table>\n",
       "</div>"
      ],
      "text/plain": [
       "         consumption   connections\n",
       "count   44983.000000  44983.000000\n",
       "mean      262.131427      8.323967\n",
       "std      1748.356136     11.917646\n",
       "min         0.000000      1.000000\n",
       "25%        16.000000      1.000000\n",
       "50%        58.000000      3.000000\n",
       "75%       166.000000     11.000000\n",
       "max    140070.000000    201.000000"
      ]
     },
     "execution_count": 65,
     "metadata": {},
     "output_type": "execute_result"
    }
   ],
   "source": [
    "fixed_data.describe()[['consumption', 'connections']]"
   ]
  },
  {
   "cell_type": "code",
   "execution_count": 69,
   "metadata": {
    "collapsed": false
   },
   "outputs": [
    {
     "data": {
      "text/plain": [
       "consumption    262.131427\n",
       "connections      8.323967\n",
       "Name: mean, dtype: float64"
      ]
     },
     "execution_count": 69,
     "metadata": {},
     "output_type": "execute_result"
    }
   ],
   "source": [
    "# mean values\n",
    "fixed_data.describe()[['consumption', 'connections']].iloc[1]"
   ]
  },
  {
   "cell_type": "code",
   "execution_count": 70,
   "metadata": {
    "collapsed": false
   },
   "outputs": [
    {
     "data": {
      "text/plain": [
       "consumption    58.0\n",
       "connections     3.0\n",
       "Name: 50%, dtype: float64"
      ]
     },
     "execution_count": 70,
     "metadata": {},
     "output_type": "execute_result"
    }
   ],
   "source": [
    "# median values\n",
    "fixed_data.describe()[['consumption', 'connections']].iloc[5]"
   ]
  },
  {
   "cell_type": "code",
   "execution_count": 71,
   "metadata": {
    "collapsed": false
   },
   "outputs": [
    {
     "data": {
      "text/plain": [
       "consumption    0.0\n",
       "connections    1.0\n",
       "Name: min, dtype: float64"
      ]
     },
     "execution_count": 71,
     "metadata": {},
     "output_type": "execute_result"
    }
   ],
   "source": [
    "# min Values\n",
    "fixed_data.describe()[['consumption', 'connections']].iloc[3]"
   ]
  },
  {
   "cell_type": "code",
   "execution_count": 72,
   "metadata": {
    "collapsed": false
   },
   "outputs": [
    {
     "data": {
      "text/plain": [
       "consumption    140070.0\n",
       "connections       201.0\n",
       "Name: max, dtype: float64"
      ]
     },
     "execution_count": 72,
     "metadata": {},
     "output_type": "execute_result"
    }
   ],
   "source": [
    "#max Values\n",
    "fixed_data.describe()[['consumption', 'connections']].iloc[7]"
   ]
  },
  {
   "cell_type": "markdown",
   "metadata": {},
   "source": [
    "### &#167; Normalize the data using z-score normalization for connection and consumption.  Show the `head()` and `tail()` of the new values."
   ]
  },
  {
   "cell_type": "code",
   "execution_count": 77,
   "metadata": {
    "collapsed": true
   },
   "outputs": [],
   "source": [
    "## From the lecture notes\n",
    "\n",
    "## inspired by python statistics library implementations\n",
    "def mean(V):\n",
    "    \"\"\"Return the sample arithmetic mean of data.\"\"\"\n",
    "    n = len(V)\n",
    "    if n < 1:\n",
    "        raise ValueError('mean requires at least one data point')\n",
    "    return sum(V)/float(n) \n",
    "\n",
    "def _ss(V):\n",
    "    \"\"\"Return sum of square deviations of sequence data.\"\"\"\n",
    "    c = mean(V)\n",
    "    ss = sum((x-c)**2 for x in V)\n",
    "    return ss\n",
    "\n",
    "def pstdev(V):\n",
    "    \"\"\"Calculates the population standard deviation.\"\"\"\n",
    "    n = len(V)\n",
    "    if n < 2:\n",
    "        raise ValueError('variance requires at least two data points')\n",
    "    ss = _ss(V)\n",
    "    pvar = ss/n # the population variance\n",
    "    return pvar**0.5\n",
    "    "
   ]
  },
  {
   "cell_type": "code",
   "execution_count": 84,
   "metadata": {
    "collapsed": false
   },
   "outputs": [
    {
     "name": "stderr",
     "output_type": "stream",
     "text": [
      "/Users/KittusMac/ipykernel/ipykernel/__main__.py:4: SettingWithCopyWarning: \n",
      "A value is trying to be set on a copy of a slice from a DataFrame.\n",
      "Try using .loc[row_indexer,col_indexer] = value instead\n",
      "\n",
      "See the caveats in the documentation: http://pandas.pydata.org/pandas-docs/stable/indexing.html#indexing-view-versus-copy\n"
     ]
    }
   ],
   "source": [
    "consumption_values = fixed_data['consumption'].values\n",
    "mean_consumption = mean(consumption_values)\n",
    "std_consumption = pstdev(consumption_values)\n",
    "fixed_data['consumption'] = fixed_data['consumption'].apply(lambda x: (x - mean_consumption )/ std_consumption)"
   ]
  },
  {
   "cell_type": "code",
   "execution_count": 85,
   "metadata": {
    "collapsed": false
   },
   "outputs": [
    {
     "name": "stderr",
     "output_type": "stream",
     "text": [
      "/Users/KittusMac/ipykernel/ipykernel/__main__.py:4: SettingWithCopyWarning: \n",
      "A value is trying to be set on a copy of a slice from a DataFrame.\n",
      "Try using .loc[row_indexer,col_indexer] = value instead\n",
      "\n",
      "See the caveats in the documentation: http://pandas.pydata.org/pandas-docs/stable/indexing.html#indexing-view-versus-copy\n"
     ]
    }
   ],
   "source": [
    "connection_values = fixed_data['connections'].values\n",
    "mean_connection = mean(connection_values)\n",
    "std_connection = pstdev(connection_values)\n",
    "fixed_data['connections'] = fixed_data['connections'].apply(lambda x: (x - mean_connection) / std_connection)"
   ]
  },
  {
   "cell_type": "code",
   "execution_count": 86,
   "metadata": {
    "collapsed": false
   },
   "outputs": [
    {
     "data": {
      "text/html": [
       "<div>\n",
       "<table border=\"1\" class=\"dataframe\">\n",
       "  <thead>\n",
       "    <tr style=\"text-align: right;\">\n",
       "      <th></th>\n",
       "      <th>_id</th>\n",
       "      <th>yr</th>\n",
       "      <th>mo</th>\n",
       "      <th>tract</th>\n",
       "      <th>block</th>\n",
       "      <th>descr</th>\n",
       "      <th>consumption</th>\n",
       "      <th>connections</th>\n",
       "    </tr>\n",
       "  </thead>\n",
       "  <tbody>\n",
       "    <tr>\n",
       "      <th>0</th>\n",
       "      <td>1</td>\n",
       "      <td>2016</td>\n",
       "      <td>1</td>\n",
       "      <td>100100</td>\n",
       "      <td>1000</td>\n",
       "      <td>business</td>\n",
       "      <td>-0.149932</td>\n",
       "      <td>-0.530645</td>\n",
       "    </tr>\n",
       "    <tr>\n",
       "      <th>1</th>\n",
       "      <td>2</td>\n",
       "      <td>2016</td>\n",
       "      <td>1</td>\n",
       "      <td>100100</td>\n",
       "      <td>1003</td>\n",
       "      <td>business</td>\n",
       "      <td>-0.148788</td>\n",
       "      <td>-0.614555</td>\n",
       "    </tr>\n",
       "    <tr>\n",
       "      <th>2</th>\n",
       "      <td>3</td>\n",
       "      <td>2016</td>\n",
       "      <td>1</td>\n",
       "      <td>100100</td>\n",
       "      <td>1004</td>\n",
       "      <td>business</td>\n",
       "      <td>0.196683</td>\n",
       "      <td>0.895827</td>\n",
       "    </tr>\n",
       "    <tr>\n",
       "      <th>3</th>\n",
       "      <td>4</td>\n",
       "      <td>2016</td>\n",
       "      <td>1</td>\n",
       "      <td>100100</td>\n",
       "      <td>1004</td>\n",
       "      <td>miscellaneous</td>\n",
       "      <td>-0.149932</td>\n",
       "      <td>-0.530645</td>\n",
       "    </tr>\n",
       "    <tr>\n",
       "      <th>4</th>\n",
       "      <td>5</td>\n",
       "      <td>2016</td>\n",
       "      <td>1</td>\n",
       "      <td>100100</td>\n",
       "      <td>1006</td>\n",
       "      <td>business</td>\n",
       "      <td>-0.021810</td>\n",
       "      <td>0.308456</td>\n",
       "    </tr>\n",
       "  </tbody>\n",
       "</table>\n",
       "</div>"
      ],
      "text/plain": [
       "   _id    yr  mo   tract  block          descr  consumption  connections\n",
       "0    1  2016   1  100100   1000       business    -0.149932    -0.530645\n",
       "1    2  2016   1  100100   1003       business    -0.148788    -0.614555\n",
       "2    3  2016   1  100100   1004       business     0.196683     0.895827\n",
       "3    4  2016   1  100100   1004  miscellaneous    -0.149932    -0.530645\n",
       "4    5  2016   1  100100   1006       business    -0.021810     0.308456"
      ]
     },
     "execution_count": 86,
     "metadata": {},
     "output_type": "execute_result"
    }
   ],
   "source": [
    "fixed_data.head()"
   ]
  },
  {
   "cell_type": "code",
   "execution_count": 87,
   "metadata": {
    "collapsed": false
   },
   "outputs": [
    {
     "data": {
      "text/html": [
       "<div>\n",
       "<table border=\"1\" class=\"dataframe\">\n",
       "  <thead>\n",
       "    <tr style=\"text-align: right;\">\n",
       "      <th></th>\n",
       "      <th>_id</th>\n",
       "      <th>yr</th>\n",
       "      <th>mo</th>\n",
       "      <th>tract</th>\n",
       "      <th>block</th>\n",
       "      <th>descr</th>\n",
       "      <th>consumption</th>\n",
       "      <th>connections</th>\n",
       "    </tr>\n",
       "  </thead>\n",
       "  <tbody>\n",
       "    <tr>\n",
       "      <th>45244</th>\n",
       "      <td>45245</td>\n",
       "      <td>2016</td>\n",
       "      <td>7</td>\n",
       "      <td>980000</td>\n",
       "      <td>1043</td>\n",
       "      <td>business</td>\n",
       "      <td>-0.062420</td>\n",
       "      <td>-0.614555</td>\n",
       "    </tr>\n",
       "    <tr>\n",
       "      <th>45245</th>\n",
       "      <td>45246</td>\n",
       "      <td>2016</td>\n",
       "      <td>7</td>\n",
       "      <td>980000</td>\n",
       "      <td>1043</td>\n",
       "      <td>miscellaneous</td>\n",
       "      <td>-0.147644</td>\n",
       "      <td>-0.530645</td>\n",
       "    </tr>\n",
       "    <tr>\n",
       "      <th>45246</th>\n",
       "      <td>45247</td>\n",
       "      <td>2016</td>\n",
       "      <td>7</td>\n",
       "      <td>980000</td>\n",
       "      <td>1045</td>\n",
       "      <td>hotel or motel</td>\n",
       "      <td>0.689151</td>\n",
       "      <td>-0.530645</td>\n",
       "    </tr>\n",
       "    <tr>\n",
       "      <th>45247</th>\n",
       "      <td>45248</td>\n",
       "      <td>2016</td>\n",
       "      <td>7</td>\n",
       "      <td>980000</td>\n",
       "      <td>1045</td>\n",
       "      <td>miscellaneous</td>\n",
       "      <td>-0.149932</td>\n",
       "      <td>-0.614555</td>\n",
       "    </tr>\n",
       "    <tr>\n",
       "      <th>45248</th>\n",
       "      <td>45249</td>\n",
       "      <td>2016</td>\n",
       "      <td>7</td>\n",
       "      <td>980000</td>\n",
       "      <td>1045</td>\n",
       "      <td>parks &amp; municipals</td>\n",
       "      <td>-0.036109</td>\n",
       "      <td>-0.614555</td>\n",
       "    </tr>\n",
       "  </tbody>\n",
       "</table>\n",
       "</div>"
      ],
      "text/plain": [
       "         _id    yr  mo   tract  block               descr  consumption  \\\n",
       "45244  45245  2016   7  980000   1043            business    -0.062420   \n",
       "45245  45246  2016   7  980000   1043       miscellaneous    -0.147644   \n",
       "45246  45247  2016   7  980000   1045      hotel or motel     0.689151   \n",
       "45247  45248  2016   7  980000   1045       miscellaneous    -0.149932   \n",
       "45248  45249  2016   7  980000   1045  parks & municipals    -0.036109   \n",
       "\n",
       "       connections  \n",
       "45244    -0.614555  \n",
       "45245    -0.530645  \n",
       "45246    -0.530645  \n",
       "45247    -0.614555  \n",
       "45248    -0.614555  "
      ]
     },
     "execution_count": 87,
     "metadata": {},
     "output_type": "execute_result"
    }
   ],
   "source": [
    "fixed_data.tail()"
   ]
  },
  {
   "cell_type": "markdown",
   "metadata": {},
   "source": [
    "## Explore relationships\n",
    "\n",
    "### &#167; Plot the connections (x-axis) to consumption (y-axis) in scatter plot.  Is there a relationship?"
   ]
  },
  {
   "cell_type": "markdown",
   "metadata": {},
   "source": [
    "From the below scatter plot, I don't see any relation between connections and consumption"
   ]
  },
  {
   "cell_type": "code",
   "execution_count": 88,
   "metadata": {
    "collapsed": false
   },
   "outputs": [
    {
     "data": {
      "text/plain": [
       "<matplotlib.text.Text at 0x11c265110>"
      ]
     },
     "execution_count": 88,
     "metadata": {},
     "output_type": "execute_result"
    },
    {
     "data": {
      "image/png": "iVBORw0KGgoAAAANSUhEUgAAAYMAAAEZCAYAAAB1mUk3AAAABHNCSVQICAgIfAhkiAAAAAlwSFlz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\n",
      "text/plain": [
       "<matplotlib.figure.Figure at 0x11c167390>"
      ]
     },
     "metadata": {},
     "output_type": "display_data"
    }
   ],
   "source": [
    "plt.scatter(fixed_data['connections'], fixed_data['consumption'])\n",
    "plt.xlabel('connections')\n",
    "plt.ylabel('consumption')\n",
    "plt.title('consumption vs connections')"
   ]
  },
  {
   "cell_type": "markdown",
   "metadata": {},
   "source": [
    "### &#167; Compute the Pearson's _r_ correlation between these two?  Does it confirm what you see?\n",
    "* You will need to investigate the [scipy Pearson's _r_ for this part](http://docs.scipy.org/doc/scipy/reference/generated/scipy.stats.pearsonr.html)."
   ]
  },
  {
   "cell_type": "code",
   "execution_count": 90,
   "metadata": {
    "collapsed": true
   },
   "outputs": [],
   "source": [
    "from scipy.stats import pearsonr"
   ]
  },
  {
   "cell_type": "code",
   "execution_count": 91,
   "metadata": {
    "collapsed": false
   },
   "outputs": [],
   "source": [
    "x = fixed_data['connections'].values\n",
    "y = fixed_data['consumption']\n",
    "pearsonr_coeff = pearsonr(x, y)[0]"
   ]
  },
  {
   "cell_type": "code",
   "execution_count": 92,
   "metadata": {
    "collapsed": false
   },
   "outputs": [
    {
     "data": {
      "text/plain": [
       "0.11420458268921865"
      ]
     },
     "execution_count": 92,
     "metadata": {},
     "output_type": "execute_result"
    }
   ],
   "source": [
    "# yes, it confirms what I see from the graph - that there is no correlation\n",
    "pearsonr_coeff"
   ]
  },
  {
   "cell_type": "markdown",
   "metadata": {
    "collapsed": false
   },
   "source": [
    "### &#167; Group the data by month and by property type and show the bar plot of this for the year-to-date day (January to July).\n",
    "\n",
    "* You will need to read up on the [groupby]() function in Pandas for the next few questions. \n",
    "* Also read up on plotting/visualizing in Pandas."
   ]
  },
  {
   "cell_type": "code",
   "execution_count": 93,
   "metadata": {
    "collapsed": true
   },
   "outputs": [],
   "source": [
    "grouped_data = fixed_data.groupby(['mo','descr']).sum()"
   ]
  },
  {
   "cell_type": "code",
   "execution_count": 96,
   "metadata": {
    "collapsed": false
   },
   "outputs": [
    {
     "data": {
      "text/plain": [
       "<matplotlib.axes._subplots.AxesSubplot at 0x11f34bc90>"
      ]
     },
     "execution_count": 96,
     "metadata": {},
     "output_type": "execute_result"
    },
    {
     "data": {
      "image/png": "iVBORw0KGgoAAAANSUhEUgAAA3AAAAKECAYAAABGnthsAAAABHNCSVQICAgIfAhkiAAAAAlwSFlz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\n",
      "text/plain": [
       "<matplotlib.figure.Figure at 0x11dde5a10>"
      ]
     },
     "metadata": {},
     "output_type": "display_data"
    }
   ],
   "source": [
    "grouped_data.plot(kind = 'bar', figsize = (15,8)) "
   ]
  },
  {
   "cell_type": "markdown",
   "metadata": {},
   "source": [
    "## BONUS\n",
    "\n",
    "## This analysis optional, but you will receive 1 bonus point for each question you answer below.\n",
    "\n",
    "### _Water consumption rises dramatically in June and July -- let's explore why?_\n",
    "### &#167; Analyze the data for May, June and July and produce a bar plot of the consumpution over those three months.\n",
    "### &#167; Explain what you see.  Of course, during the summer months, the temperatures are higher and thus water consumption would naturally go up, but given what you see in the plot, what else is going on?\n",
    "\n",
    "* _Hints_: You will need to understand how to use [aggregate()](http://pandas.pydata.org/pandas-docs/stable/groupby.html#aggregation) and maybe [get_level_values()](http://pandas.pydata.org/pandas-docs/stable/generated/pandas.CategoricalIndex.get_level_values.html#pandas.CategoricalIndex.get_level_values).  "
   ]
  },
  {
   "cell_type": "code",
   "execution_count": 97,
   "metadata": {
    "collapsed": false
   },
   "outputs": [],
   "source": [
    "may_to_july = fixed_data[(fixed_data['mo'] >= 5) & (fixed_data['mo'] <= 7)]"
   ]
  },
  {
   "cell_type": "code",
   "execution_count": 105,
   "metadata": {
    "collapsed": false
   },
   "outputs": [
    {
     "data": {
      "text/plain": [
       "<Container object of 19364 artists>"
      ]
     },
     "execution_count": 105,
     "metadata": {},
     "output_type": "execute_result"
    },
    {
     "data": {
      "image/png": "iVBORw0KGgoAAAANSUhEUgAAAfAAAAFXCAYAAABdtRywAAAABHNCSVQICAgIfAhkiAAAAAlwSFlz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\nAQ4AgIEIcAAADESAAwBgoP8DObLsbFWyghcAAAAASUVORK5CYII=\n",
      "text/plain": [
       "<matplotlib.figure.Figure at 0x1219987d0>"
      ]
     },
     "metadata": {},
     "output_type": "display_data"
    }
   ],
   "source": [
    "plt.bar(may_to_july[\"mo\"].values, may_to_july[\"consumption\"].values)"
   ]
  },
  {
   "cell_type": "code",
   "execution_count": null,
   "metadata": {
    "collapsed": true
   },
   "outputs": [],
   "source": []
  }
 ],
 "metadata": {
  "anaconda-cloud": {},
  "kernelspec": {
   "display_name": "Python 2",
   "language": "python",
   "name": "python2"
  },
  "language_info": {
   "codemirror_mode": {
    "name": "ipython",
    "version": 2
   },
   "file_extension": ".py",
   "mimetype": "text/x-python",
   "name": "python",
   "nbconvert_exporter": "python",
   "pygments_lexer": "ipython2",
   "version": "2.7.11"
  },
  "widgets": {
   "state": {},
   "version": "1.1.2"
  }
 },
 "nbformat": 4,
 "nbformat_minor": 0
}
